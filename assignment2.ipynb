{
 "cells": [
  {
   "cell_type": "code",
   "execution_count": 23,
   "metadata": {
    "id": "f5NDXrN2CtH7"
   },
   "outputs": [],
   "source": [
    "import os\n",
    "import json\n",
    "import gzip\n",
    "import nltk\n",
    "import seaborn as sns\n",
    "import pandas as pd\n",
    "from urllib.request import urlopen\n",
    "from collections import defaultdict\n",
    "from sklearn import linear_model\n",
    "from nltk.corpus import stopwords\n",
    "\n",
    "# import working with data libraries\n",
    "import pandas as pd\n",
    "import numpy as np\n",
    "import string\n",
    "\n",
    "# import seaborn\n",
    "import seaborn as sns\n",
    "\n",
    "# import matplotlib\n",
    "import matplotlib.pyplot as plt # Typical way of import MPL\n",
    "import matplotlib as mpl # This line is used less frequently"
   ]
  },
  {
   "cell_type": "code",
   "execution_count": 2,
   "metadata": {
    "colab": {
     "base_uri": "https://localhost:8080/",
     "height": 71
    },
    "id": "7igYuRaV4bF7",
    "outputId": "c0595e40-c850-43b2-d32a-43cb2cbd0e1f"
   },
   "outputs": [
    {
     "name": "stdout",
     "output_type": "stream",
     "text": [
      "459436\n",
      "{'overall': 2.0, 'vote': '3', 'verified': True, 'reviewTime': '05 3, 2009', 'reviewerID': 'A1CUJ6ZT82H7LS', 'asin': '0132147556', 'style': {'Format:': ' Paperback'}, 'reviewerName': 'Brian', 'reviewText': \"Maybe it's just me (I have no marketing background but desperately want to learn for my start-up) but I cannot get hardly anything out of this text. I have tried very hard to tread through the writing and learn something useful but chapter after chapter seems to be the exact same thing... overly wordy, rambling & unnecessarily academic writing with no comprehensible message behind it, no strategies I can apply to my own business and no organization that I can make sense of. Feels almost like I'm reading a paper a college student BSed their way through with a whole bunch of long words and cryptic sentences in order to sound impressive. What a rip-off. I paid $70 for this and it has been the most useless book I've paid for in my research process (and I've read 16 other books thus far to help me with my venture).\\n\\nThe only reason I'm giving this two stars and not one star is that out of the first six chapters I've read, two of them actually made sense. One was on International Marketing and did a very good job explaining the technology limitations of other countries and the ways foreign citizens adapt to this and use technology. This is actually very helpful information and I'm going to use it. The second was on the legal and ethical aspects of using the internet. It gave an extremely concise explanation with lots of info and it was easily understandable. Unfortunately, I've read a chapter like this over and over and over again in pretty much every e-business book I've picked up so far so it's getting old.\", 'summary': 'This book is intolerable', 'unixReviewTime': 1241308800}\n"
     ]
    }
   ],
   "source": [
    "### load the review data\n",
    "\n",
    "review_data = []\n",
    "with gzip.open('Software.json.gz') as f:\n",
    "    for l in f:\n",
    "        review_data.append(json.loads(l.strip()))\n",
    "    \n",
    "# total length of list, this number equals total number of reviews\n",
    "print(len(review_data))\n",
    "\n",
    "# first row of the list\n",
    "print(review_data[10])"
   ]
  },
  {
   "cell_type": "code",
   "execution_count": 3,
   "metadata": {
    "colab": {
     "base_uri": "https://localhost:8080/",
     "height": 34
    },
    "id": "knpHP22w4scK",
    "outputId": "b75be678-1377-4b8c-b689-56e1eab703b8"
   },
   "outputs": [
    {
     "name": "stdout",
     "output_type": "stream",
     "text": [
      "459436\n"
     ]
    }
   ],
   "source": [
    "# convert list into pandas dataframe\n",
    "\n",
    "all_products = {set}\n",
    "df_review = pd.DataFrame.from_dict(review_data)\n",
    "\n",
    "#filter out the non-verified reviews, and leave only the columns we want\n",
    "# df_review = df_review[df_review['verified']==True][[\"overall\", \"reviewTime\", \"asin\", \"reviewText\", \"summary\"]]\n",
    "df_review = df_review[[\"overall\", \"reviewTime\", \"asin\", \"reviewText\", \"summary\"]]\n",
    "df_review = df_review.rename(columns={\"asin\": \"product_id\", \"overall\": \"rating\"})\n",
    "print(len(df_review))"
   ]
  },
  {
   "cell_type": "code",
   "execution_count": 4,
   "metadata": {},
   "outputs": [
    {
     "name": "stdout",
     "output_type": "stream",
     "text": [
      "26790\n",
      "{'category': [], 'tech1': '', 'description': ['', '<b>Latin rhythms that will get your kids singing in Spanish</b>', '<i>Sing, Watch, and Learn Spanish</i> helps your kids ages four through eight take a giant step in learning Spanish by combining two time-honored methods kids have always used to develop their language skills: Imitating other kids and singing along with simple melodies. This charming DVD contains 16 music videos featuring kids engaged in fun activities, from visiting animals at the zoo to comparing clothing sizes in grandmas closet.', 'Each video features an original song of authentic Latin rhythms that gets kids singing along with the children on screen. As they watch, listen, and sing along, kids absorb 300 Spanish words, each of which is shouted out in a song and displayed as a subtitle on screen.', '', '', ''], 'fit': '', 'title': 'Sing, Watch, &amp; Learn Spanish (DVD + Guide): 16 Fun Music Videos to Introduce Your Child to Spanish', 'also_buy': [], 'tech2': '', 'brand': 'McGraw Hill', 'feature': [], 'rank': '15,792 in Software (', 'also_view': [], 'main_cat': 'Software', 'similar_item': '', 'date': '</div>', 'price': '', 'asin': '0071480935', 'imageURL': ['https://images-na.ssl-images-amazon.com/images/I/51BtLn2-L-L._SX38_SY50_CR,0,0,38,50_.jpg'], 'imageURLHighRes': ['https://images-na.ssl-images-amazon.com/images/I/51BtLn2-L-L.jpg']}\n"
     ]
    }
   ],
   "source": [
    "### load the mega data\n",
    "\n",
    "mega_data = []\n",
    "with gzip.open('meta_Software.json.gz') as f:\n",
    "    for l in f:\n",
    "        mega_data.append(json.loads(l.strip()))\n",
    "    \n",
    "# total length of list, this number equals total number of products\n",
    "print(len(mega_data))\n",
    "\n",
    "# first row of the list\n",
    "print(mega_data[1])"
   ]
  },
  {
   "cell_type": "code",
   "execution_count": 5,
   "metadata": {},
   "outputs": [
    {
     "name": "stdout",
     "output_type": "stream",
     "text": [
      "26790\n"
     ]
    },
    {
     "data": {
      "text/html": [
       "<div>\n",
       "<style scoped>\n",
       "    .dataframe tbody tr th:only-of-type {\n",
       "        vertical-align: middle;\n",
       "    }\n",
       "\n",
       "    .dataframe tbody tr th {\n",
       "        vertical-align: top;\n",
       "    }\n",
       "\n",
       "    .dataframe thead th {\n",
       "        text-align: right;\n",
       "    }\n",
       "</style>\n",
       "<table border=\"1\" class=\"dataframe\">\n",
       "  <thead>\n",
       "    <tr style=\"text-align: right;\">\n",
       "      <th></th>\n",
       "      <th>product_id</th>\n",
       "      <th>rank</th>\n",
       "    </tr>\n",
       "  </thead>\n",
       "  <tbody>\n",
       "    <tr>\n",
       "      <th>0</th>\n",
       "      <td>0030672120</td>\n",
       "      <td>25,550 in Software (</td>\n",
       "    </tr>\n",
       "    <tr>\n",
       "      <th>1</th>\n",
       "      <td>0071480935</td>\n",
       "      <td>15,792 in Software (</td>\n",
       "    </tr>\n",
       "    <tr>\n",
       "      <th>2</th>\n",
       "      <td>007329506X</td>\n",
       "      <td>16,900 in Software (</td>\n",
       "    </tr>\n",
       "    <tr>\n",
       "      <th>3</th>\n",
       "      <td>0073513458</td>\n",
       "      <td>12,986 in Software (</td>\n",
       "    </tr>\n",
       "    <tr>\n",
       "      <th>4</th>\n",
       "      <td>0073525758</td>\n",
       "      <td>14,861 in Software (</td>\n",
       "    </tr>\n",
       "  </tbody>\n",
       "</table>\n",
       "</div>"
      ],
      "text/plain": [
       "   product_id                  rank\n",
       "0  0030672120  25,550 in Software (\n",
       "1  0071480935  15,792 in Software (\n",
       "2  007329506X  16,900 in Software (\n",
       "3  0073513458  12,986 in Software (\n",
       "4  0073525758  14,861 in Software ("
      ]
     },
     "execution_count": 5,
     "metadata": {},
     "output_type": "execute_result"
    }
   ],
   "source": [
    "# convert list into pandas dataframe\n",
    "\n",
    "df_product = pd.DataFrame.from_dict(mega_data)\n",
    "\n",
    "#filter out the non-verified reviews, and leave only the columns we want\n",
    "df_product = df_product[[\"asin\", \"rank\"]]\n",
    "df_product = df_product.rename(columns={\"asin\": \"product_id\"})\n",
    "print(len(df_product))\n",
    "df_product.head()\n",
    "# TODO:filter out the products that has reviews, rank in software\n",
    "# if(product_id)\n",
    "# df_software = df_product[df_product['rank']]"
   ]
  },
  {
   "cell_type": "code",
   "execution_count": 6,
   "metadata": {},
   "outputs": [
    {
     "name": "stdout",
     "output_type": "stream",
     "text": [
      "26790\n",
      "21316\n"
     ]
    }
   ],
   "source": [
    "df_product = df_product.dropna(axis='index')\n",
    "print(len(df_product))\n",
    "df_product = df_product[df_product['rank'].str.contains('Software', na=False)]\n",
    "print(len(df_product))\n"
   ]
  },
  {
   "cell_type": "code",
   "execution_count": 7,
   "metadata": {},
   "outputs": [],
   "source": [
    "\n",
    "def toInt(str_in):\n",
    "    try:\n",
    "        str_in=''.join(i for i in str_in if i.isdigit())\n",
    "        output = str_in\n",
    "    except:\n",
    "        output = np.nan\n",
    "        \n",
    "    return output\n"
   ]
  },
  {
   "cell_type": "code",
   "execution_count": 8,
   "metadata": {},
   "outputs": [
    {
     "data": {
      "text/html": [
       "<div>\n",
       "<style scoped>\n",
       "    .dataframe tbody tr th:only-of-type {\n",
       "        vertical-align: middle;\n",
       "    }\n",
       "\n",
       "    .dataframe tbody tr th {\n",
       "        vertical-align: top;\n",
       "    }\n",
       "\n",
       "    .dataframe thead th {\n",
       "        text-align: right;\n",
       "    }\n",
       "</style>\n",
       "<table border=\"1\" class=\"dataframe\">\n",
       "  <thead>\n",
       "    <tr style=\"text-align: right;\">\n",
       "      <th></th>\n",
       "      <th>product_id</th>\n",
       "      <th>rank</th>\n",
       "    </tr>\n",
       "  </thead>\n",
       "  <tbody>\n",
       "    <tr>\n",
       "      <th>0</th>\n",
       "      <td>0030672120</td>\n",
       "      <td>25550</td>\n",
       "    </tr>\n",
       "    <tr>\n",
       "      <th>1</th>\n",
       "      <td>0071480935</td>\n",
       "      <td>15792</td>\n",
       "    </tr>\n",
       "    <tr>\n",
       "      <th>2</th>\n",
       "      <td>007329506X</td>\n",
       "      <td>16900</td>\n",
       "    </tr>\n",
       "    <tr>\n",
       "      <th>3</th>\n",
       "      <td>0073513458</td>\n",
       "      <td>12986</td>\n",
       "    </tr>\n",
       "    <tr>\n",
       "      <th>4</th>\n",
       "      <td>0073525758</td>\n",
       "      <td>14861</td>\n",
       "    </tr>\n",
       "  </tbody>\n",
       "</table>\n",
       "</div>"
      ],
      "text/plain": [
       "   product_id   rank\n",
       "0  0030672120  25550\n",
       "1  0071480935  15792\n",
       "2  007329506X  16900\n",
       "3  0073513458  12986\n",
       "4  0073525758  14861"
      ]
     },
     "execution_count": 8,
     "metadata": {},
     "output_type": "execute_result"
    }
   ],
   "source": [
    "df_product['rank'] = df_product['rank'].apply(toInt)\n",
    "df_product.head()"
   ]
  },
  {
   "cell_type": "code",
   "execution_count": 9,
   "metadata": {},
   "outputs": [
    {
     "name": "stdout",
     "output_type": "stream",
     "text": [
      "17142\n"
     ]
    }
   ],
   "source": [
    "all_products_Y = {set}\n",
    "\n",
    "for index, product_id, rank in df_product.itertuples():\n",
    "    all_products_Y.add(product_id)\n",
    "# print(all_products_Y)\n",
    "print(len(all_products_Y))"
   ]
  },
  {
   "cell_type": "code",
   "execution_count": 10,
   "metadata": {},
   "outputs": [],
   "source": [
    "options = all_products_Y\n",
    "  \n",
    "# selecting rows that product ids are included in the product dataframe\n",
    "df_review = df_review[df_review['product_id'].isin(options)]"
   ]
  },
  {
   "cell_type": "code",
   "execution_count": 11,
   "metadata": {},
   "outputs": [
    {
     "name": "stdout",
     "output_type": "stream",
     "text": [
      "21316 19185 2131 21316\n"
     ]
    }
   ],
   "source": [
    "np.random.seed(32) # for reproducible results.\n",
    "df_product_x1 = np.array_split(df_product.reindex(np.random.permutation(df_product.index)),10)[0]\n",
    "df_product_x2 = np.array_split(df_product.reindex(np.random.permutation(df_product.index)),10)[1]\n",
    "df_product_x3 = np.array_split(df_product.reindex(np.random.permutation(df_product.index)),10)[2]\n",
    "df_product_x4 = np.array_split(df_product.reindex(np.random.permutation(df_product.index)),10)[3]\n",
    "df_product_x5 = np.array_split(df_product.reindex(np.random.permutation(df_product.index)),10)[4]\n",
    "df_product_x6 = np.array_split(df_product.reindex(np.random.permutation(df_product.index)),10)[5]\n",
    "df_product_x7 = np.array_split(df_product.reindex(np.random.permutation(df_product.index)),10)[6]\n",
    "df_product_x8 = np.array_split(df_product.reindex(np.random.permutation(df_product.index)),10)[7]\n",
    "df_product_x9 = np.array_split(df_product.reindex(np.random.permutation(df_product.index)),10)[8]\n",
    "#test set\n",
    "df_product_y = np.array_split(df_product.reindex(np.random.permutation(df_product.index)),10)[9]\n",
    "#training set\n",
    "# df_product_x = df_product_x1\n",
    "df_product_x = pd.concat([df_product_x1, df_product_x2, df_product_x3, df_product_x4, df_product_x5, df_product_x6, df_product_x7, df_product_x8, df_product_x9])\n",
    "print(len(df_product), len(df_product_x), len(df_product_y), (len(df_product_x) + len(df_product_y)))\n",
    "df_product.head()\n",
    "del(df_product_x1, df_product_x2, df_product_x3, df_product_x4, df_product_x5, df_product_x6, df_product_x7, df_product_x8, df_product_x9)\n",
    "# get = df_product_y.loc[df_product_y['product_id'] == '0077613252']\n",
    "# get.head()"
   ]
  },
  {
   "cell_type": "code",
   "execution_count": 12,
   "metadata": {},
   "outputs": [
    {
     "name": "stdout",
     "output_type": "stream",
     "text": [
      "281 1606 2456 2436 2184 2698 2162 2179 2524 2790\n"
     ]
    }
   ],
   "source": [
    "all_products_train = {set}\n",
    "product_rank = {}\n",
    "y = []\n",
    "\n",
    "for index, product_id, rank in df_product_x.itertuples():\n",
    "    all_products_train.add(str(product_id))   \n",
    "\n",
    "def ranking(products):\n",
    "    a = 0\n",
    "    s = 0\n",
    "    d = 0\n",
    "    f = 0\n",
    "    g = 0\n",
    "    h = 0\n",
    "    j = 0\n",
    "    k = 0\n",
    "    l = 0\n",
    "    m = 0\n",
    "    for index, product_id, rank in products.itertuples():\n",
    "        if int(rank)<1000:\n",
    "            product_rank.update({str(product_id): 1})\n",
    "            a+=1\n",
    "        elif int(rank)<5000:\n",
    "            product_rank.update({str(product_id): 2})\n",
    "            s+=1\n",
    "        elif int(rank)<10000:\n",
    "            product_rank.update({str(product_id): 3})\n",
    "            d+=1\n",
    "        elif int(rank)<15000:\n",
    "            product_rank.update({str(product_id): 4})\n",
    "            f+=1\n",
    "        elif int(rank)<20000:\n",
    "            product_rank.update({str(product_id): 5})\n",
    "            g+=1\n",
    "        elif int(rank)<27000:\n",
    "            product_rank.update({str(product_id): 6})\n",
    "            h+=1\n",
    "        elif int(rank)<35000:\n",
    "            product_rank.update({str(product_id): 7})\n",
    "            l+=1\n",
    "        elif int(rank)<45000:\n",
    "            product_rank.update({str(product_id): 8})\n",
    "            j+=1\n",
    "        elif int(rank)<60000:\n",
    "            product_rank.update({str(product_id): 9})\n",
    "            m+=1\n",
    "        else:\n",
    "            product_rank.update({str(product_id):10})\n",
    "            k+=1\n",
    "    print(a,s,d,f,g,h,l,j,m,k)\n",
    "            \n",
    "ranking(df_product)\n",
    "# print(all_products)\n",
    " \n",
    "# print(product_rank['0030672120'])"
   ]
  },
  {
   "cell_type": "code",
   "execution_count": 13,
   "metadata": {},
   "outputs": [
    {
     "name": "stdout",
     "output_type": "stream",
     "text": [
      "5610\n",
      "11530\n"
     ]
    }
   ],
   "source": [
    "ratingsPerItem = defaultdict(list)\n",
    "reviewsPerItem = defaultdict(list)\n",
    "summariesPerItem = defaultdict(list)\n",
    "ratingsPerItem_test = defaultdict(list)\n",
    "reviewsPerItem_test = defaultdict(list)\n",
    "summariesPerItem_test = defaultdict(list)\n",
    "\n",
    "for index, rating, reviewTime, product_id, reviewText, summary in df_review.itertuples():\n",
    "    if(product_id in all_products_train):\n",
    "        ratingsPerItem[product_id].append(rating)\n",
    "        reviewsPerItem[product_id].append(reviewText)\n",
    "        summariesPerItem[product_id].append(summary)\n",
    "    else:\n",
    "        ratingsPerItem_test[product_id].append(rating)\n",
    "        reviewsPerItem_test[product_id].append(reviewText)\n",
    "        summariesPerItem_test[product_id].append(summary)\n",
    "print(len(ratingsPerItem_test))\n",
    "print(len(ratingsPerItem))\n",
    "        \n",
    "# print(len(all_products))\n",
    "# print(len(df_review))\n",
    "# df_review.head()\n",
    "# print(ratingsPerItem['0077613252'])\n",
    "# print(len(ratingsPerItem))\n",
    "# # print(s)\n",
    "# print(summariesPerItem['0077613252'])"
   ]
  },
  {
   "cell_type": "code",
   "execution_count": 14,
   "metadata": {},
   "outputs": [
    {
     "name": "stdout",
     "output_type": "stream",
     "text": [
      "11530 5610 11530 5610\n"
     ]
    }
   ],
   "source": [
    "# Xtrain = []\n",
    "ytrain = []\n",
    "\n",
    "def feature(datum):\n",
    "#     Xtrain.append(datum[1])\n",
    "    ytrain.append(int(product_rank[datum[0]]))\n",
    "    feat = []\n",
    "    feat.append(1)# offset\n",
    "    feat.append(len(datum[1])) \n",
    "    rl = []\n",
    "    sl = []\n",
    "    for reviews in reviewsPerItem[datum[0]]:\n",
    "        rl.append(len(str(reviews))) #length of reviews\n",
    "    for summary in summariesPerItem[datum[0]]:\n",
    "        sl.append(len(str(summary))) #length of summaries\n",
    "    feat.append(sum(rl)/len(rl)) \n",
    "    feat.append(sum(sl)/len(sl))\n",
    "    feat.append(sum(datum[1])/len(datum[1])) #average rating\n",
    "#     feat.append()\n",
    "    return feat\n",
    "\n",
    "# Xtest = []\n",
    "ytest = []\n",
    "def feature_test(datum):\n",
    "#     Xtest.append(datum[1])\n",
    "    ytest.append(int(product_rank[(datum[0])]))\n",
    "    feat = []\n",
    "    feat.append(1)# offset\n",
    "    feat.append(len(datum[1])) \n",
    "    rl = []\n",
    "    sl = []\n",
    "    for reviews in reviewsPerItem_test[datum[0]]:\n",
    "        rl.append(len(str(reviews))) #length of reviews\n",
    "    for summary in summariesPerItem_test[datum[0]]:\n",
    "        sl.append(len(str(summary))) #length of summaries\n",
    "    feat.append(sum(rl)/len(rl)) \n",
    "    feat.append(sum(sl)/len(sl))\n",
    "    feat.append(sum(datum[1])/len(datum[1])) #average rating\n",
    "#     feat.append()\n",
    "    return feat\n",
    "\n",
    "X_train = [feature(d) for d in ratingsPerItem.items()]\n",
    "X_test = [feature_test(d) for d in ratingsPerItem_test.items()]\n",
    "\n",
    "# Y = [feature(d) for d in ratingsPerItem.items()]\n",
    "# print(product_rank['77775473'])\n",
    "print(len(X_train), len(X_test), len(ytrain), len(ytest))"
   ]
  },
  {
   "cell_type": "code",
   "execution_count": 15,
   "metadata": {},
   "outputs": [],
   "source": [
    "def MSE(predictions, labels):\n",
    "    differences = [(x-y)**2 for x,y in zip(predictions,labels)]\n",
    "    return sum(differences) / len(differences)"
   ]
  },
  {
   "cell_type": "code",
   "execution_count": 17,
   "metadata": {
    "colab": {
     "base_uri": "https://localhost:8080/",
     "height": 51
    },
    "id": "LgWrDtZ94w89",
    "outputId": "7e22e4ab-1622-4452-ce81-54e85ef92522"
   },
   "outputs": [
    {
     "data": {
      "text/plain": [
       "Ridge(fit_intercept=False)"
      ]
     },
     "execution_count": 17,
     "metadata": {},
     "output_type": "execute_result"
    }
   ],
   "source": [
    "# mod = linear_model.LogisticRegression(solver = 'saga')\n",
    "mod = linear_model.Ridge(1.0, fit_intercept=False) # MSE + 1.0 l2\n",
    "mod.fit(X_train, ytrain) "
   ]
  },
  {
   "cell_type": "code",
   "execution_count": 18,
   "metadata": {},
   "outputs": [
    {
     "name": "stdout",
     "output_type": "stream",
     "text": [
      "11530 11530\n"
     ]
    }
   ],
   "source": [
    "print(len(X_train), len(ytrain))"
   ]
  },
  {
   "cell_type": "code",
   "execution_count": 19,
   "metadata": {},
   "outputs": [],
   "source": [
    "pred = mod.predict(X_train)"
   ]
  },
  {
   "cell_type": "code",
   "execution_count": 20,
   "metadata": {},
   "outputs": [
    {
     "data": {
      "text/plain": [
       "6.0863985571871995"
      ]
     },
     "execution_count": 20,
     "metadata": {},
     "output_type": "execute_result"
    }
   ],
   "source": [
    "#MSE on train set\n",
    "MSE(pred, ytrain)"
   ]
  },
  {
   "cell_type": "code",
   "execution_count": 21,
   "metadata": {
    "colab": {
     "base_uri": "https://localhost:8080/",
     "height": 306
    },
    "id": "7Vq32rQd5D9W",
    "outputId": "2965e85b-d993-4520-a992-d42e0cec3f01"
   },
   "outputs": [
    {
     "data": {
      "text/plain": [
       "6.061214209020762"
      ]
     },
     "execution_count": 21,
     "metadata": {},
     "output_type": "execute_result"
    }
   ],
   "source": [
    "pred = mod.predict(X_test)\n",
    "#MSE on test set\n",
    "MSE(pred, ytest)"
   ]
  },
  {
   "cell_type": "code",
   "execution_count": 24,
   "metadata": {
    "id": "6LBLzsFU5LJ_"
   },
   "outputs": [
    {
     "name": "stderr",
     "output_type": "stream",
     "text": [
      "[nltk_data] Downloading package stopwords to\n",
      "[nltk_data]     C:\\Users\\pecef\\AppData\\Roaming\\nltk_data...\n",
      "[nltk_data]   Package stopwords is already up-to-date!\n"
     ]
    }
   ],
   "source": [
    "#box of words\n",
    "nltk.download('stopwords')\n",
    "stopwords_set = (stopwords.words('english'))\n",
    "\n",
    "wordCount = defaultdict(int)\n",
    "punctuation = set(string.punctuation)\n",
    "for item in reviewsPerItem.items():\n",
    "    for reviews in item[1]:\n",
    "        review = ''.join([c for c in str(reviews).lower() if not c in punctuation])\n",
    "    for w in review.split():\n",
    "        if w not in stopwords_set and not w.isdigit():\n",
    "            wordCount[w] += 1"
   ]
  },
  {
   "cell_type": "code",
   "execution_count": 43,
   "metadata": {
    "id": "WqZcdGp-5cui"
   },
   "outputs": [],
   "source": [
    "counts = [(wordCount[w], w) for w in wordCount]\n",
    "counts.sort()\n",
    "counts.reverse()\n",
    "\n",
    "words = [x[1] for x in counts[:1000]]\n",
    "# print(words)\n",
    "# print(wordCount['trend'])\n",
    "wordId = dict(zip(words, range(len(words))))\n",
    "wordSet = set(words)"
   ]
  },
  {
   "cell_type": "code",
   "execution_count": 47,
   "metadata": {},
   "outputs": [],
   "source": [
    "def feature_words(datum):\n",
    "    feat = [0]*len(words)\n",
    "    r = ''\n",
    "    for d in datum[1]:\n",
    "        r = r.join('').join([c for c in str(d).lower() if not c in punctuation])\n",
    "    for w in r.split():\n",
    "        if w in words:\n",
    "            feat[wordId[w]] += 1\n",
    "    feat.append(1) # offset\n",
    "    return feat\n",
    "\n",
    "\n",
    "X_train = [feature_words(d) for d in reviewsPerItem.items()]"
   ]
  },
  {
   "cell_type": "code",
   "execution_count": 49,
   "metadata": {},
   "outputs": [
    {
     "name": "stdout",
     "output_type": "stream",
     "text": [
      "11530 11530\n",
      "11530\n"
     ]
    },
    {
     "data": {
      "text/plain": [
       "Ridge(fit_intercept=False)"
      ]
     },
     "execution_count": 49,
     "metadata": {},
     "output_type": "execute_result"
    }
   ],
   "source": [
    "mod = linear_model.Ridge(1.0, fit_intercept=False) # MSE + 1.0 l2\n",
    "print(len(X_train), len(ytrain))\n",
    "print(len(reviewsPerItem))\n",
    "mod.fit(X_train, ytrain) "
   ]
  },
  {
   "cell_type": "code",
   "execution_count": 50,
   "metadata": {},
   "outputs": [
    {
     "data": {
      "text/plain": [
       "5.732992303912787"
      ]
     },
     "execution_count": 50,
     "metadata": {},
     "output_type": "execute_result"
    }
   ],
   "source": [
    "pred = mod.predict(X_train)\n",
    "MSE(pred, ytrain)"
   ]
  },
  {
   "cell_type": "code",
   "execution_count": null,
   "metadata": {},
   "outputs": [],
   "source": [
    "#This MSE slightly better than then the recent"
   ]
  }
 ],
 "metadata": {
  "colab": {
   "provenance": []
  },
  "kernelspec": {
   "display_name": "Python 3 (ipykernel)",
   "language": "python",
   "name": "python3"
  },
  "language_info": {
   "codemirror_mode": {
    "name": "ipython",
    "version": 3
   },
   "file_extension": ".py",
   "mimetype": "text/x-python",
   "name": "python",
   "nbconvert_exporter": "python",
   "pygments_lexer": "ipython3",
   "version": "3.9.12"
  },
  "vscode": {
   "interpreter": {
    "hash": "9274472d204997a60f3e6b441fc89b9850a03d1a4e4803b7b7eea8ec800f1853"
   }
  }
 },
 "nbformat": 4,
 "nbformat_minor": 1
}
