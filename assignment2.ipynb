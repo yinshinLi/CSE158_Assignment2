{
 "cells": [
  {
   "cell_type": "code",
   "execution_count": 1,
   "metadata": {
    "id": "f5NDXrN2CtH7"
   },
   "outputs": [],
   "source": [
    "import os\n",
    "import json\n",
    "import gzip\n",
    "import pandas as pd\n",
    "from urllib.request import urlopen"
   ]
  },
  {
   "cell_type": "code",
   "execution_count": 14,
   "metadata": {
    "colab": {
     "base_uri": "https://localhost:8080/",
     "height": 71
    },
    "id": "7igYuRaV4bF7",
    "outputId": "c0595e40-c850-43b2-d32a-43cb2cbd0e1f"
   },
   "outputs": [
    {
     "name": "stdout",
     "output_type": "stream",
     "text": [
      "459436\n",
      "{'overall': 2.0, 'vote': '3', 'verified': True, 'reviewTime': '05 3, 2009', 'reviewerID': 'A1CUJ6ZT82H7LS', 'asin': '0132147556', 'style': {'Format:': ' Paperback'}, 'reviewerName': 'Brian', 'reviewText': \"Maybe it's just me (I have no marketing background but desperately want to learn for my start-up) but I cannot get hardly anything out of this text. I have tried very hard to tread through the writing and learn something useful but chapter after chapter seems to be the exact same thing... overly wordy, rambling & unnecessarily academic writing with no comprehensible message behind it, no strategies I can apply to my own business and no organization that I can make sense of. Feels almost like I'm reading a paper a college student BSed their way through with a whole bunch of long words and cryptic sentences in order to sound impressive. What a rip-off. I paid $70 for this and it has been the most useless book I've paid for in my research process (and I've read 16 other books thus far to help me with my venture).\\n\\nThe only reason I'm giving this two stars and not one star is that out of the first six chapters I've read, two of them actually made sense. One was on International Marketing and did a very good job explaining the technology limitations of other countries and the ways foreign citizens adapt to this and use technology. This is actually very helpful information and I'm going to use it. The second was on the legal and ethical aspects of using the internet. It gave an extremely concise explanation with lots of info and it was easily understandable. Unfortunately, I've read a chapter like this over and over and over again in pretty much every e-business book I've picked up so far so it's getting old.\", 'summary': 'This book is intolerable', 'unixReviewTime': 1241308800}\n"
     ]
    }
   ],
   "source": [
    "### load the review data\n",
    "\n",
    "review_data = []\n",
    "with gzip.open('Software.json.gz') as f:\n",
    "    for l in f:\n",
    "        review_data.append(json.loads(l.strip()))\n",
    "    \n",
    "# total length of list, this number equals total number of reviews\n",
    "print(len(review_data))\n",
    "\n",
    "# first row of the list\n",
    "print(review_data[10])"
   ]
  },
  {
   "cell_type": "code",
   "execution_count": 37,
   "metadata": {
    "colab": {
     "base_uri": "https://localhost:8080/",
     "height": 34
    },
    "id": "knpHP22w4scK",
    "outputId": "b75be678-1377-4b8c-b689-56e1eab703b8"
   },
   "outputs": [
    {
     "name": "stdout",
     "output_type": "stream",
     "text": [
      "309345\n"
     ]
    },
    {
     "data": {
      "text/html": [
       "<div>\n",
       "<style scoped>\n",
       "    .dataframe tbody tr th:only-of-type {\n",
       "        vertical-align: middle;\n",
       "    }\n",
       "\n",
       "    .dataframe tbody tr th {\n",
       "        vertical-align: top;\n",
       "    }\n",
       "\n",
       "    .dataframe thead th {\n",
       "        text-align: right;\n",
       "    }\n",
       "</style>\n",
       "<table border=\"1\" class=\"dataframe\">\n",
       "  <thead>\n",
       "    <tr style=\"text-align: right;\">\n",
       "      <th></th>\n",
       "      <th>overall</th>\n",
       "      <th>reviewTime</th>\n",
       "      <th>asin</th>\n",
       "      <th>reviewText</th>\n",
       "      <th>summary</th>\n",
       "    </tr>\n",
       "  </thead>\n",
       "  <tbody>\n",
       "    <tr>\n",
       "      <th>0</th>\n",
       "      <td>4.0</td>\n",
       "      <td>03 11, 2014</td>\n",
       "      <td>0077613252</td>\n",
       "      <td>The materials arrived early and were in excell...</td>\n",
       "      <td>Material Great</td>\n",
       "    </tr>\n",
       "    <tr>\n",
       "      <th>1</th>\n",
       "      <td>4.0</td>\n",
       "      <td>02 23, 2014</td>\n",
       "      <td>0077613252</td>\n",
       "      <td>I am really enjoying this book with the worksh...</td>\n",
       "      <td>Health</td>\n",
       "    </tr>\n",
       "    <tr>\n",
       "      <th>2</th>\n",
       "      <td>1.0</td>\n",
       "      <td>02 17, 2014</td>\n",
       "      <td>0077613252</td>\n",
       "      <td>IF YOU ARE TAKING THIS CLASS DON\"T WASTE YOUR ...</td>\n",
       "      <td>ARE YOU KIDING ME?</td>\n",
       "    </tr>\n",
       "    <tr>\n",
       "      <th>3</th>\n",
       "      <td>3.0</td>\n",
       "      <td>02 17, 2014</td>\n",
       "      <td>0077613252</td>\n",
       "      <td>This book was missing pages!!! Important pages...</td>\n",
       "      <td>missing pages!!</td>\n",
       "    </tr>\n",
       "    <tr>\n",
       "      <th>5</th>\n",
       "      <td>4.0</td>\n",
       "      <td>08 15, 2011</td>\n",
       "      <td>0132147556</td>\n",
       "      <td>Strong backgroung, good read, quite up to date...</td>\n",
       "      <td>E-marketing 6th ed</td>\n",
       "    </tr>\n",
       "  </tbody>\n",
       "</table>\n",
       "</div>"
      ],
      "text/plain": [
       "   overall   reviewTime        asin  \\\n",
       "0      4.0  03 11, 2014  0077613252   \n",
       "1      4.0  02 23, 2014  0077613252   \n",
       "2      1.0  02 17, 2014  0077613252   \n",
       "3      3.0  02 17, 2014  0077613252   \n",
       "5      4.0  08 15, 2011  0132147556   \n",
       "\n",
       "                                          reviewText             summary  \n",
       "0  The materials arrived early and were in excell...      Material Great  \n",
       "1  I am really enjoying this book with the worksh...              Health  \n",
       "2  IF YOU ARE TAKING THIS CLASS DON\"T WASTE YOUR ...  ARE YOU KIDING ME?  \n",
       "3  This book was missing pages!!! Important pages...     missing pages!!  \n",
       "5  Strong backgroung, good read, quite up to date...  E-marketing 6th ed  "
      ]
     },
     "execution_count": 37,
     "metadata": {},
     "output_type": "execute_result"
    }
   ],
   "source": [
    "# convert list into pandas dataframe\n",
    "\n",
    "all_products = {}\n",
    "df_review = pd.DataFrame.from_dict(review_data)\n",
    "\n",
    "#filter out the non-verified reviews, and leave only the columns we want\n",
    "df_review = df_review[df_review['verified']==True][[\"overall\", \"reviewTime\", \"asin\", \"reviewText\", \"summary\"]]\n",
    "print(len(df_review))\n",
    "df_review.head()\n",
    "# for x in df_review:\n",
    "#     all_products.add(x['asin'])"
   ]
  },
  {
   "cell_type": "code",
   "execution_count": 28,
   "metadata": {},
   "outputs": [
    {
     "name": "stdout",
     "output_type": "stream",
     "text": [
      "26790\n",
      "{'category': [], 'tech1': '', 'description': ['', '<b>Latin rhythms that will get your kids singing in Spanish</b>', '<i>Sing, Watch, and Learn Spanish</i> helps your kids ages four through eight take a giant step in learning Spanish by combining two time-honored methods kids have always used to develop their language skills: Imitating other kids and singing along with simple melodies. This charming DVD contains 16 music videos featuring kids engaged in fun activities, from visiting animals at the zoo to comparing clothing sizes in grandmas closet.', 'Each video features an original song of authentic Latin rhythms that gets kids singing along with the children on screen. As they watch, listen, and sing along, kids absorb 300 Spanish words, each of which is shouted out in a song and displayed as a subtitle on screen.', '', '', ''], 'fit': '', 'title': 'Sing, Watch, &amp; Learn Spanish (DVD + Guide): 16 Fun Music Videos to Introduce Your Child to Spanish', 'also_buy': [], 'tech2': '', 'brand': 'McGraw Hill', 'feature': [], 'rank': '15,792 in Software (', 'also_view': [], 'main_cat': 'Software', 'similar_item': '', 'date': '</div>', 'price': '', 'asin': '0071480935', 'imageURL': ['https://images-na.ssl-images-amazon.com/images/I/51BtLn2-L-L._SX38_SY50_CR,0,0,38,50_.jpg'], 'imageURLHighRes': ['https://images-na.ssl-images-amazon.com/images/I/51BtLn2-L-L.jpg']}\n"
     ]
    }
   ],
   "source": [
    "### load the mega data\n",
    "\n",
    "mega_data = []\n",
    "with gzip.open('meta_Software.json.gz') as f:\n",
    "    for l in f:\n",
    "        mega_data.append(json.loads(l.strip()))\n",
    "    \n",
    "# total length of list, this number equals total number of products\n",
    "print(len(mega_data))\n",
    "\n",
    "# first row of the list\n",
    "print(mega_data[1])"
   ]
  },
  {
   "cell_type": "code",
   "execution_count": 34,
   "metadata": {},
   "outputs": [
    {
     "name": "stdout",
     "output_type": "stream",
     "text": [
      "26790\n"
     ]
    },
    {
     "data": {
      "text/html": [
       "<div>\n",
       "<style scoped>\n",
       "    .dataframe tbody tr th:only-of-type {\n",
       "        vertical-align: middle;\n",
       "    }\n",
       "\n",
       "    .dataframe tbody tr th {\n",
       "        vertical-align: top;\n",
       "    }\n",
       "\n",
       "    .dataframe thead th {\n",
       "        text-align: right;\n",
       "    }\n",
       "</style>\n",
       "<table border=\"1\" class=\"dataframe\">\n",
       "  <thead>\n",
       "    <tr style=\"text-align: right;\">\n",
       "      <th></th>\n",
       "      <th>asin</th>\n",
       "      <th>rank</th>\n",
       "    </tr>\n",
       "  </thead>\n",
       "  <tbody>\n",
       "    <tr>\n",
       "      <th>26785</th>\n",
       "      <td>B01HEFZJC2</td>\n",
       "      <td>1,389,844 in Clothing, Shoes &amp; Jewelry (</td>\n",
       "    </tr>\n",
       "    <tr>\n",
       "      <th>26786</th>\n",
       "      <td>B01HEFZKEE</td>\n",
       "      <td>1,469,307 in Clothing, Shoes &amp; Jewelry (</td>\n",
       "    </tr>\n",
       "    <tr>\n",
       "      <th>26787</th>\n",
       "      <td>B01HF3G4BS</td>\n",
       "      <td>2,733 in Software (</td>\n",
       "    </tr>\n",
       "    <tr>\n",
       "      <th>26788</th>\n",
       "      <td>B01HF41TKI</td>\n",
       "      <td>15,575 in Software (</td>\n",
       "    </tr>\n",
       "    <tr>\n",
       "      <th>26789</th>\n",
       "      <td>B01HJAMWOK</td>\n",
       "      <td>7,721 in Software (</td>\n",
       "    </tr>\n",
       "  </tbody>\n",
       "</table>\n",
       "</div>"
      ],
      "text/plain": [
       "             asin                                      rank\n",
       "26785  B01HEFZJC2  1,389,844 in Clothing, Shoes & Jewelry (\n",
       "26786  B01HEFZKEE  1,469,307 in Clothing, Shoes & Jewelry (\n",
       "26787  B01HF3G4BS                       2,733 in Software (\n",
       "26788  B01HF41TKI                      15,575 in Software (\n",
       "26789  B01HJAMWOK                       7,721 in Software ("
      ]
     },
     "execution_count": 34,
     "metadata": {},
     "output_type": "execute_result"
    }
   ],
   "source": [
    "# convert list into pandas dataframe\n",
    "\n",
    "df_product = pd.DataFrame.from_dict(mega_data)\n",
    "\n",
    "#filter out the non-verified reviews, and leave only the columns we want\n",
    "df_product = df_product[[\"asin\", \"rank\"]]\n",
    "print(len(df_product))\n",
    "df_product.tail()"
   ]
  },
  {
   "cell_type": "code",
   "execution_count": 25,
   "metadata": {
    "colab": {
     "base_uri": "https://localhost:8080/",
     "height": 51
    },
    "id": "LgWrDtZ94w89",
    "outputId": "7e22e4ab-1622-4452-ce81-54e85ef92522"
   },
   "outputs": [],
   "source": [
    "# ### remove rows with unformatted title (i.e. some 'title' may still contain html style content)\n",
    "\n",
    "# df3 = df.fillna('')\n",
    "# df4 = df3[df3.title.str.contains('getTime')] # unformatted rows\n",
    "# df5 = df3[~df3.title.str.contains('getTime')] # filter those unformatted rows\n",
    "# print(len(df4))\n",
    "# print(len(df5))"
   ]
  },
  {
   "cell_type": "code",
   "execution_count": 26,
   "metadata": {
    "colab": {
     "base_uri": "https://localhost:8080/",
     "height": 306
    },
    "id": "7Vq32rQd5D9W",
    "outputId": "2965e85b-d993-4520-a992-d42e0cec3f01"
   },
   "outputs": [],
   "source": [
    "# # how those unformatted rows look like\n",
    "# df4.iloc[0]"
   ]
  },
  {
   "cell_type": "code",
   "execution_count": null,
   "metadata": {
    "id": "6LBLzsFU5LJ_"
   },
   "outputs": [],
   "source": []
  },
  {
   "cell_type": "code",
   "execution_count": null,
   "metadata": {
    "id": "WqZcdGp-5cui"
   },
   "outputs": [],
   "source": []
  },
  {
   "cell_type": "code",
   "execution_count": null,
   "metadata": {},
   "outputs": [],
   "source": []
  }
 ],
 "metadata": {
  "colab": {
   "provenance": []
  },
  "kernelspec": {
   "display_name": "Python 3 (ipykernel)",
   "language": "python",
   "name": "python3"
  },
  "language_info": {
   "codemirror_mode": {
    "name": "ipython",
    "version": 3
   },
   "file_extension": ".py",
   "mimetype": "text/x-python",
   "name": "python",
   "nbconvert_exporter": "python",
   "pygments_lexer": "ipython3",
   "version": "3.9.12"
  },
  "vscode": {
   "interpreter": {
    "hash": "9274472d204997a60f3e6b441fc89b9850a03d1a4e4803b7b7eea8ec800f1853"
   }
  }
 },
 "nbformat": 4,
 "nbformat_minor": 1
}
